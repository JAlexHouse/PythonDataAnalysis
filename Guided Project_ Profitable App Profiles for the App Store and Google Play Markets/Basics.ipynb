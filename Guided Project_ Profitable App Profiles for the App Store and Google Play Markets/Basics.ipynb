{
 "cells": [
  {
   "cell_type": "markdown",
   "metadata": {
    "collapsed": true
   },
   "source": [
    "# App Profiles for the App Store and Google Play Markets\n",
    "---\n",
    "This project is for the purposes of displaying my ability to code in Python, use the Jupyter Notebook web app, and deepen my knowledge on the work of a data analyst.\n",
    "\n",
    "This project will detail information regarding the making of mobile apps built for iOS and Android."
   ]
  },
  {
   "cell_type": "code",
   "execution_count": 1,
   "metadata": {
    "collapsed": true
   },
   "outputs": [],
   "source": [
    "def explore_data(dataset, start, end, rows_and_columns=False):\n",
    "    dataset_slice = dataset[start:end]    \n",
    "    for row in dataset_slice:\n",
    "        print(row)\n",
    "        print('\\n') # adds a new (empty) line after each row\n",
    "\n",
    "    if rows_and_columns:\n",
    "        print('Number of rows:', len(dataset))\n",
    "        print('Number of columns:', len(dataset[0]))"
   ]
  },
  {
   "cell_type": "code",
   "execution_count": 2,
   "metadata": {
    "collapsed": false
   },
   "outputs": [],
   "source": [
    "from csv import reader\n",
    "#Open Android app data#\n",
    "open_android_file=open('googleplaystore.csv')\n",
    "read_android_file=reader(open_android_file)\n",
    "android_data=list(read_android_file)\n",
    "android_header=android_data[0]\n",
    "\n",
    "#Open iOS app data#\n",
    "open_ios_file=open('AppleStore.csv')\n",
    "read_ios_file=reader(open_ios_file)\n",
    "ios_data=list(read_ios_file)\n",
    "ios_header=ios_data[0]"
   ]
  },
  {
   "cell_type": "code",
   "execution_count": 3,
   "metadata": {
    "collapsed": false
   },
   "outputs": [
    {
     "name": "stdout",
     "output_type": "stream",
     "text": [
      "Displaying iOS app data: \n",
      "\n",
      "\n",
      "['id', 'track_name', 'size_bytes', 'currency', 'price', 'rating_count_tot', 'rating_count_ver', 'user_rating', 'user_rating_ver', 'ver', 'cont_rating', 'prime_genre', 'sup_devices.num', 'ipadSc_urls.num', 'lang.num', 'vpp_lic']\n",
      "\n",
      "\n",
      "Displaying Android app data: \n",
      "\n",
      "\n",
      "['App', 'Category', 'Rating', 'Reviews', 'Size', 'Installs', 'Type', 'Price', 'Content Rating', 'Genres', 'Last Updated', 'Current Ver', 'Android Ver']\n",
      "\n",
      "\n"
     ]
    }
   ],
   "source": [
    "print(\"Displaying iOS app data: \")\n",
    "print(\"\\n\")\n",
    "explore_data(ios_data, 0, 1)\n",
    "\n",
    "print(\"Displaying Android app data: \")\n",
    "print(\"\\n\")\n",
    "explore_data(android_data, 0, 1)"
   ]
  },
  {
   "cell_type": "markdown",
   "metadata": {},
   "source": [
    "## Data Cleaning: Deleting Wrong Data\n",
    "\n",
    "In the next section, in order. to make sure the data that is analyzed is accurate, data that is inaccurate or duplicate must be either corrected or removed from the data pool. \n",
    "\n",
    "For the purposes of this project, non-English apps (such as 爱奇艺PPS -《欢乐颂2》电视剧热播) and non-free apps will be removed, too."
   ]
  },
  {
   "cell_type": "code",
   "execution_count": 4,
   "metadata": {
    "collapsed": false
   },
   "outputs": [
    {
     "name": "stdout",
     "output_type": "stream",
     "text": [
      "['Command & Conquer: Rivals', 'FAMILY', 'NaN', '0', 'Varies with device', '0', 'NaN', '0', 'Everyone 10+', 'Strategy', 'June 28, 2018', 'Varies with device', 'Varies with device'] 9148\n",
      "['Life Made WI-Fi Touchscreen Photo Frame', '1.9', '19', '3.0M', '1,000+', 'Free', '0', 'Everyone', '', 'February 11, 2018', '1.0.19', '4.0 and up'] 10472\n"
     ]
    }
   ],
   "source": [
    "#Here, the for loop finds any data that has a Type of 'NaN' or incorrect\n",
    "#data input, which must be removed through the use of the del statement\n",
    "i=0\n",
    "for alist in android_data[1:]:\n",
    "    if alist[3] == '3.0M':\n",
    "        print(alist, i)\n",
    "        del android_data[i]\n",
    "    if alist[6] == 'NaN':\n",
    "        print(alist, i)\n",
    "        del android_data[i]\n",
    "    i+=1"
   ]
  },
  {
   "cell_type": "code",
   "execution_count": 5,
   "metadata": {
    "collapsed": false
   },
   "outputs": [
    {
     "name": "stdout",
     "output_type": "stream",
     "text": [
      "['Quick PDF Scanner + OCR FREE', 'Box', 'Google My Business', 'ZOOM Cloud Meetings', 'join.me - Simple Meetings', 'Box', 'Zenefits', 'Google Ads', 'Google My Business', 'Slack', 'FreshBooks Classic', 'Insightly CRM', 'QuickBooks Accounting: Invoicing & Expenses', 'HipChat - Chat Built for Teams', 'Xero Accounting Software']\n"
     ]
    }
   ],
   "source": [
    "#In this section, duplicated app information will be separate into\n",
    "#two lists. One with unique apps, and one with duplicate entries\n",
    "android_dupes = []\n",
    "android_uniq = []\n",
    "for alist in android_data[1:]:\n",
    "    name=alist[0]\n",
    "    if name in android_uniq:\n",
    "        android_dupes.append(name)\n",
    "    else:\n",
    "        android_uniq.append(name)\n",
    "#For example, here is a list of 15 apps that were found to have \n",
    "#duplicated entries:\n",
    "print(android_dupes[:15])"
   ]
  },
  {
   "cell_type": "markdown",
   "metadata": {},
   "source": [
    "Now we have found the exact amount of duplicated data in the Google Play data set. The length of this duplicate data subset can now be deducted from the total set in order to find the total number of unique apps."
   ]
  },
  {
   "cell_type": "code",
   "execution_count": 6,
   "metadata": {
    "collapsed": false
   },
   "outputs": [
    {
     "name": "stdout",
     "output_type": "stream",
     "text": [
      "No. of duplicate entries:  1181\n",
      "No. of unique apps:  9658\n"
     ]
    }
   ],
   "source": [
    "print('No. of duplicate entries: ', len(android_dupes))\n",
    "print('No. of unique apps: ', len(android_data)-len(android_dupes)-1)"
   ]
  },
  {
   "cell_type": "markdown",
   "metadata": {},
   "source": [
    "For data analysis, the most recent data of duplicate entries will be preferred. With this in mind, the data with the highest number of reviews for duplicates will be selected and the other entries will be discarded."
   ]
  },
  {
   "cell_type": "code",
   "execution_count": 7,
   "metadata": {
    "collapsed": false
   },
   "outputs": [
    {
     "name": "stdout",
     "output_type": "stream",
     "text": [
      "9658\n"
     ]
    }
   ],
   "source": [
    "android_reviews_max = {}\n",
    "for alist in android_data[1:]:\n",
    "    name = alist[0]\n",
    "    n_reviews = float(alist[3])\n",
    "    if name in android_reviews_max and n_reviews > android_reviews_max[name]:\n",
    "        android_reviews_max[name] = n_reviews\n",
    "    elif name not in android_reviews_max:\n",
    "        android_reviews_max[name] = n_reviews\n",
    "\n",
    "android_clean = []\n",
    "android_already_added = []\n",
    "for alist in android_data[1:]:\n",
    "    name = alist[0]\n",
    "    n_reviews = float(alist[3])\n",
    "    if n_reviews == android_reviews_max[name] and name not in android_already_added:\n",
    "        android_clean.append(alist)\n",
    "        android_already_added.append(name)\n",
    "\n",
    "print(len(android_clean))"
   ]
  },
  {
   "cell_type": "markdown",
   "metadata": {
    "collapsed": true
   },
   "source": [
    "## Removing Non-English Apps\n",
    "\n",
    "English text is in the ASCII range of 0 to 127, so if a character's ASCII is out of this range, then the app data will be removed from the dataset. "
   ]
  },
  {
   "cell_type": "code",
   "execution_count": 8,
   "metadata": {
    "collapsed": true
   },
   "outputs": [],
   "source": [
    "def isEnglish(app_name):\n",
    "    n_ascii =0\n",
    "    for char in app_name:\n",
    "        if ord(char) > 127:\n",
    "            n_ascii+=1\n",
    "        if n_ascii > 3:\n",
    "            return False\n",
    "    return True"
   ]
  },
  {
   "cell_type": "code",
   "execution_count": 9,
   "metadata": {
    "collapsed": false
   },
   "outputs": [
    {
     "name": "stdout",
     "output_type": "stream",
     "text": [
      "7198\n",
      "6183\n",
      "10840\n",
      "9613\n"
     ]
    }
   ],
   "source": [
    "android_english = []\n",
    "for alist in android_clean:\n",
    "    name = alist[0]\n",
    "    if isEnglish(name):\n",
    "        android_english.append(alist)\n",
    "        \n",
    "ios_english = []\n",
    "for alist in ios_data[1:]:\n",
    "    name = alist[1]\n",
    "    if isEnglish(name):\n",
    "        ios_english.append(alist)\n",
    "\n",
    "print(len(ios_data))\n",
    "print(len(ios_english))\n",
    "print(len(android_data))\n",
    "print(len(android_english))"
   ]
  },
  {
   "cell_type": "markdown",
   "metadata": {
    "collapsed": true
   },
   "source": [
    "## Isolating Free Apps\n",
    "\n",
    "So far, duplicate data, non-English apps, and a couple of erroneous entries have been removed. Now, the purposes of this project is to analyze free applications, so those will be isolated now."
   ]
  },
  {
   "cell_type": "code",
   "execution_count": 10,
   "metadata": {
    "collapsed": false
   },
   "outputs": [
    {
     "name": "stdout",
     "output_type": "stream",
     "text": [
      "Before android isolation:  9613\n",
      "After android isolation:  8861\n",
      "Before iOS isolation:  6183\n",
      "After iOS isolation:  3221\n"
     ]
    }
   ],
   "source": [
    "android_free = []\n",
    "for alist in android_english[1:]:\n",
    "    price = alist[6]\n",
    "    if price == 'Free':\n",
    "        android_free.append(alist)\n",
    "\n",
    "ios_free = []\n",
    "for alist in ios_english[1:]:\n",
    "    price = float(alist[4])\n",
    "    if price == 0.0:\n",
    "        ios_free.append(alist)\n",
    "\n",
    "print(\"Before android isolation: \", len(android_english))\n",
    "print(\"After android isolation: \", len(android_free))\n",
    "print(\"Before iOS isolation: \", len(ios_english))\n",
    "print(\"After iOS isolation: \", len(ios_free))"
   ]
  },
  {
   "cell_type": "markdown",
   "metadata": {
    "collapsed": true
   },
   "source": [
    "The point of this data-cleaning and eventual analysis is to understand what kind of apps are recieved well and often in the AppStore or GooglePlay Store. \n",
    "\n",
    "A sensible plan of action is to develop an app that is likely to attract more users based on the data analysis.\n",
    "* Build an Android version of the app\n",
    "* If app is successful/recieves good responses, develop further\n",
    "* Build an iOS version"
   ]
  },
  {
   "cell_type": "markdown",
   "metadata": {},
   "source": [
    "## Most Common Apps by Genre\n",
    "\n",
    "In this step, to validate our strategy to create a potential app, we will inspect the data to create frequency tables based on the genre of the dataset. Based on this, the percentages of genres can be calculated and sorted in descending order, to easily identify the most developed genre of app."
   ]
  },
  {
   "cell_type": "code",
   "execution_count": 11,
   "metadata": {
    "collapsed": true
   },
   "outputs": [],
   "source": [
    "def freq_table(dataset, index):\n",
    "    fr_table = {}\n",
    "    for alist in dataset:\n",
    "        content = alist[index]\n",
    "        if content in fr_table:\n",
    "            fr_table[content] += 1\n",
    "        else:\n",
    "            fr_table[content] = 1\n",
    "    for key in fr_table:\n",
    "        fr_table[key] /= len(fr_table)\n",
    "    return fr_table"
   ]
  },
  {
   "cell_type": "code",
   "execution_count": 12,
   "metadata": {
    "collapsed": true
   },
   "outputs": [],
   "source": [
    "def display_table(dataset, index):\n",
    "    table = freq_table(dataset, index)\n",
    "    table_display = []\n",
    "    for key in table:\n",
    "        key_val_as_tuple = (table[key], key)\n",
    "        table_display.append(key_val_as_tuple)\n",
    "\n",
    "    table_sorted = sorted(table_display, reverse = True)\n",
    "    for entry in table_sorted:\n",
    "        print(entry[1], ':', entry[0])"
   ]
  },
  {
   "cell_type": "markdown",
   "metadata": {},
   "source": [
    "**Creating Frequency Tables**\n",
    "\n",
    "The two functions *display_table* and *freq_table* are used to create frequency tables based off of two parameters: the dataset used(which should be a list of lists), and an index(an int for the desired column to be inspected). \n"
   ]
  },
  {
   "cell_type": "code",
   "execution_count": 13,
   "metadata": {
    "collapsed": false
   },
   "outputs": [
    {
     "name": "stdout",
     "output_type": "stream",
     "text": [
      "Google Play Category data: \n",
      "FAMILY : 50.72727272727273\n",
      "GAME : 26.12121212121212\n",
      "TOOLS : 22.727272727272727\n",
      "BUSINESS : 12.333333333333334\n",
      "LIFESTYLE : 10.484848484848484\n",
      "PRODUCTIVITY : 10.454545454545455\n",
      "FINANCE : 9.93939393939394\n",
      "MEDICAL : 9.484848484848484\n",
      "SPORTS : 9.121212121212121\n",
      "PERSONALIZATION : 8.909090909090908\n",
      "COMMUNICATION : 8.696969696969697\n",
      "HEALTH_AND_FITNESS : 8.272727272727273\n",
      "PHOTOGRAPHY : 7.909090909090909\n",
      "NEWS_AND_MAGAZINES : 7.515151515151516\n",
      "SOCIAL : 7.151515151515151\n",
      "TRAVEL_AND_LOCAL : 6.2727272727272725\n",
      "SHOPPING : 6.03030303030303\n",
      "BOOKS_AND_REFERENCE : 5.757575757575758\n",
      "DATING : 5.0\n",
      "VIDEO_PLAYERS : 4.818181818181818\n",
      "MAPS_AND_NAVIGATION : 3.757575757575758\n",
      "FOOD_AND_DRINK : 3.3333333333333335\n",
      "EDUCATION : 3.121212121212121\n",
      "ENTERTAINMENT : 2.5757575757575757\n",
      "LIBRARIES_AND_DEMO : 2.515151515151515\n",
      "AUTO_AND_VEHICLES : 2.484848484848485\n",
      "HOUSE_AND_HOME : 2.212121212121212\n",
      "WEATHER : 2.1515151515151514\n",
      "EVENTS : 1.9090909090909092\n",
      "PARENTING : 1.7575757575757576\n",
      "ART_AND_DESIGN : 1.696969696969697\n",
      "COMICS : 1.6666666666666667\n",
      "BEAUTY : 1.606060606060606\n",
      "\n",
      "\n",
      "Google Play Genres data: \n",
      "Tools : 6.5701754385964914\n",
      "Entertainment : 4.719298245614035\n",
      "Education : 4.157894736842105\n",
      "Business : 3.5701754385964914\n",
      "Productivity : 3.026315789473684\n",
      "Lifestyle : 3.026315789473684\n",
      "Finance : 2.8771929824561404\n",
      "Medical : 2.745614035087719\n",
      "Sports : 2.692982456140351\n",
      "Personalization : 2.5789473684210527\n",
      "Communication : 2.517543859649123\n",
      "Action : 2.412280701754386\n",
      "Health & Fitness : 2.3947368421052633\n",
      "Photography : 2.289473684210526\n",
      "News & Magazines : 2.175438596491228\n",
      "Social : 2.0701754385964914\n",
      "Travel & Local : 1.8070175438596492\n",
      "Shopping : 1.7456140350877194\n",
      "Books & Reference : 1.6666666666666667\n",
      "Simulation : 1.587719298245614\n",
      "Dating : 1.4473684210526316\n",
      "Arcade : 1.4385964912280702\n",
      "Video Players & Editors : 1.3771929824561404\n",
      "Casual : 1.3596491228070176\n",
      "Maps & Navigation : 1.087719298245614\n",
      "Food & Drink : 0.9649122807017544\n",
      "Puzzle : 0.8771929824561403\n",
      "Racing : 0.7719298245614035\n",
      "Role Playing : 0.7280701754385965\n",
      "Libraries & Demo : 0.7280701754385965\n",
      "Auto & Vehicles : 0.7192982456140351\n",
      "Strategy : 0.7017543859649122\n",
      "House & Home : 0.6403508771929824\n",
      "Weather : 0.6228070175438597\n",
      "Events : 0.5526315789473685\n",
      "Adventure : 0.5263157894736842\n",
      "Comics : 0.47368421052631576\n",
      "Beauty : 0.4649122807017544\n",
      "Art & Design : 0.45614035087719296\n",
      "Parenting : 0.38596491228070173\n",
      "Card : 0.3508771929824561\n",
      "Casino : 0.3333333333333333\n",
      "Trivia : 0.32456140350877194\n",
      "Educational;Education : 0.30701754385964913\n",
      "Board : 0.2982456140350877\n",
      "Educational : 0.2894736842105263\n",
      "Education;Education : 0.2631578947368421\n",
      "Word : 0.20175438596491227\n",
      "Casual;Pretend Play : 0.18421052631578946\n",
      "Music : 0.15789473684210525\n",
      "Racing;Action & Adventure : 0.13157894736842105\n",
      "Puzzle;Brain Games : 0.13157894736842105\n",
      "Entertainment;Music & Video : 0.13157894736842105\n",
      "Casual;Brain Games : 0.10526315789473684\n",
      "Casual;Action & Adventure : 0.10526315789473684\n",
      "Arcade;Action & Adventure : 0.09649122807017543\n",
      "Action;Action & Adventure : 0.07894736842105263\n",
      "Educational;Pretend Play : 0.07017543859649122\n",
      "Simulation;Action & Adventure : 0.06140350877192982\n",
      "Parenting;Education : 0.06140350877192982\n",
      "Entertainment;Brain Games : 0.06140350877192982\n",
      "Board;Brain Games : 0.06140350877192982\n",
      "Parenting;Music & Video : 0.05263157894736842\n",
      "Educational;Brain Games : 0.05263157894736842\n",
      "Casual;Creativity : 0.05263157894736842\n",
      "Art & Design;Creativity : 0.05263157894736842\n",
      "Education;Pretend Play : 0.043859649122807015\n",
      "Role Playing;Pretend Play : 0.03508771929824561\n",
      "Education;Creativity : 0.03508771929824561\n",
      "Role Playing;Action & Adventure : 0.02631578947368421\n",
      "Puzzle;Action & Adventure : 0.02631578947368421\n",
      "Entertainment;Creativity : 0.02631578947368421\n",
      "Entertainment;Action & Adventure : 0.02631578947368421\n",
      "Educational;Creativity : 0.02631578947368421\n",
      "Educational;Action & Adventure : 0.02631578947368421\n",
      "Education;Music & Video : 0.02631578947368421\n",
      "Education;Brain Games : 0.02631578947368421\n",
      "Education;Action & Adventure : 0.02631578947368421\n",
      "Adventure;Action & Adventure : 0.02631578947368421\n",
      "Video Players & Editors;Music & Video : 0.017543859649122806\n",
      "Sports;Action & Adventure : 0.017543859649122806\n",
      "Simulation;Pretend Play : 0.017543859649122806\n",
      "Puzzle;Creativity : 0.017543859649122806\n",
      "Music;Music & Video : 0.017543859649122806\n",
      "Entertainment;Pretend Play : 0.017543859649122806\n",
      "Casual;Education : 0.017543859649122806\n",
      "Board;Action & Adventure : 0.017543859649122806\n",
      "Video Players & Editors;Creativity : 0.008771929824561403\n",
      "Trivia;Education : 0.008771929824561403\n",
      "Travel & Local;Action & Adventure : 0.008771929824561403\n",
      "Tools;Education : 0.008771929824561403\n",
      "Strategy;Education : 0.008771929824561403\n",
      "Strategy;Creativity : 0.008771929824561403\n",
      "Strategy;Action & Adventure : 0.008771929824561403\n",
      "Simulation;Education : 0.008771929824561403\n",
      "Role Playing;Brain Games : 0.008771929824561403\n",
      "Racing;Pretend Play : 0.008771929824561403\n",
      "Puzzle;Education : 0.008771929824561403\n",
      "Parenting;Brain Games : 0.008771929824561403\n",
      "Music & Audio;Music & Video : 0.008771929824561403\n",
      "Lifestyle;Pretend Play : 0.008771929824561403\n",
      "Lifestyle;Education : 0.008771929824561403\n",
      "Health & Fitness;Education : 0.008771929824561403\n",
      "Health & Fitness;Action & Adventure : 0.008771929824561403\n",
      "Entertainment;Education : 0.008771929824561403\n",
      "Communication;Creativity : 0.008771929824561403\n",
      "Comics;Creativity : 0.008771929824561403\n",
      "Casual;Music & Video : 0.008771929824561403\n",
      "Card;Action & Adventure : 0.008771929824561403\n",
      "Books & Reference;Education : 0.008771929824561403\n",
      "Art & Design;Pretend Play : 0.008771929824561403\n",
      "Art & Design;Action & Adventure : 0.008771929824561403\n",
      "Arcade;Pretend Play : 0.008771929824561403\n",
      "Adventure;Education : 0.008771929824561403\n",
      "\n",
      "\n",
      "iOS prime_genre data: \n",
      "Games : 81.47826086956522\n",
      "Entertainment : 11.043478260869565\n",
      "Photo & Video : 6.956521739130435\n",
      "Education : 5.130434782608695\n",
      "Social Networking : 4.565217391304348\n",
      "Shopping : 3.652173913043478\n",
      "Utilities : 3.5217391304347827\n",
      "Sports : 3.0\n",
      "Music : 2.869565217391304\n",
      "Health & Fitness : 2.8260869565217392\n",
      "Productivity : 2.4347826086956523\n",
      "Lifestyle : 2.217391304347826\n",
      "News : 1.8695652173913044\n",
      "Travel : 1.7391304347826086\n",
      "Finance : 1.565217391304348\n",
      "Weather : 1.2173913043478262\n",
      "Food & Drink : 1.1304347826086956\n",
      "Reference : 0.782608695652174\n",
      "Business : 0.7391304347826086\n",
      "Book : 0.6086956521739131\n",
      "Navigation : 0.2608695652173913\n",
      "Medical : 0.2608695652173913\n",
      "Catalogs : 0.17391304347826086\n",
      "\n",
      "\n"
     ]
    }
   ],
   "source": [
    "print(\"Google Play Category data: \")\n",
    "display_table(android_free, 1)\n",
    "print(\"\\n\")\n",
    "print(\"Google Play Genres data: \")\n",
    "display_table(android_free, 9)\n",
    "print(\"\\n\")\n",
    "print(\"iOS prime_genre data: \")\n",
    "display_table(ios_free, 11)\n",
    "print(\"\\n\")"
   ]
  },
  {
   "cell_type": "markdown",
   "metadata": {},
   "source": [
    "From the Cagetory data, the development of apps across all fields is fairly distributed. The most developed app Category was the Tools category at 6.57%, with the second-most being Entertainment at 4.72%.\n",
    "However, under the Genres data, the Google Play store displays a more drastic distribution of app genres, with 50.72% of apps being under the Family genre. The second-highest developed genre is Game with 26.12%. This data shows that despite the fair distribution of app categories, the genres show that the market is more partial towards recreational and entertainment apps, such as ones that are tailored towards children.\n",
    "\n",
    "From inspection of the prime_genre data, it can be seen that the Games genre is by far the most popular genre to develop apps, with a percentage of 81.49%. The 2nd highest genre developed is Entertainment, with a contrastingly low percent of 11.04%. From this data, it can be concluded that the vast majority of apps are developed with recreational purposes in mind, rather than utility and practicality."
   ]
  },
  {
   "cell_type": "code",
   "execution_count": 14,
   "metadata": {
    "collapsed": true
   },
   "outputs": [],
   "source": [
    "category_data = freq_table(android_free, 1)\n",
    "genres_data = freq_table(android_free, 9)\n",
    "prime_genre_data= freq_table(ios_free, 11)"
   ]
  },
  {
   "cell_type": "code",
   "execution_count": 15,
   "metadata": {
    "collapsed": false
   },
   "outputs": [],
   "source": [
    "def calc_avg_reviews(dataset):\n",
    "    ios_avg_reviews = {}\n",
    "    for genre in prime_genre_data:\n",
    "        total = 0\n",
    "        len_genre = 0\n",
    "        for alist in dataset:\n",
    "            genre_app = alist[11]\n",
    "            if genre == genre_app:\n",
    "                n_ratings = float(alist[5])\n",
    "                total += n_ratings\n",
    "                len_genre += 1\n",
    "        avg_reviews = total / len_genre\n",
    "        ios_avg_reviews[genre] = avg_reviews\n",
    "        \n",
    "    return ios_avg_reviews"
   ]
  },
  {
   "cell_type": "code",
   "execution_count": 16,
   "metadata": {
    "collapsed": true
   },
   "outputs": [],
   "source": [
    "def display_avg_reviews(dataset):\n",
    "    table = calc_avg_reviews(dataset)\n",
    "    table_display = []\n",
    "    for key in table:\n",
    "        key_val_as_tuple = (table[key], key)\n",
    "        table_display.append(key_val_as_tuple)\n",
    "\n",
    "    table_sorted = sorted(table_display, reverse = True)\n",
    "    for entry in table_sorted:\n",
    "        print(entry[1], ':', entry[0])"
   ]
  },
  {
   "cell_type": "code",
   "execution_count": 23,
   "metadata": {
    "collapsed": true
   },
   "outputs": [],
   "source": [
    "def calc_avg_install(dataset, genre_set, genre_index, install_index):\n",
    "    avg_install = {}\n",
    "    for genre in genre_set:\n",
    "        total = 0\n",
    "        len_genre = 0\n",
    "        for alist in dataset:\n",
    "            genre_app = alist[genre_index]\n",
    "            if genre == genre_app:\n",
    "                n_ratings = alist[install_index].replace('+', '')\n",
    "                n_ratings = float(n_ratings.replace(',', ''))\n",
    "                total += n_ratings\n",
    "                len_genre += 1\n",
    "        avg_reviews = total / len_genre\n",
    "        print(total, len_genre, avg_reviews)\n",
    "        avg_install[genre] = avg_reviews\n",
    "    return avg_install"
   ]
  },
  {
   "cell_type": "code",
   "execution_count": 24,
   "metadata": {
    "collapsed": true
   },
   "outputs": [],
   "source": [
    "def display_avg_install(dataset, genre_set, genre_index, install_index):\n",
    "    table = calc_avg_install(dataset, genre_set, genre_index, install_index)\n",
    "    table_display = []\n",
    "    for key in table:\n",
    "        key_val_as_tuple = (table[key], key)\n",
    "        table_display.append(key_val_as_tuple)\n",
    "\n",
    "    table_sorted = sorted(table_display, reverse = True)\n",
    "    for entry in table_sorted:\n",
    "        print(entry[1], ':', entry[0])"
   ]
  },
  {
   "cell_type": "code",
   "execution_count": 25,
   "metadata": {
    "collapsed": false
   },
   "outputs": [
    {
     "name": "stdout",
     "output_type": "stream",
     "text": [
      "516542.0 6 86090.33333333333\n",
      "1463837.0 28 52279.892857142855\n",
      "556619.0 14 39758.5\n",
      "42705967.0 1874 22788.6696905016\n",
      "3672.0 6 612.0\n",
      "4550647.0 160 28441.54375\n",
      "3563577.0 254 14029.830708661417\n",
      "127349.0 17 7491.117647058823\n",
      "2261254.0 84 26919.690476190477\n",
      "1132846.0 36 31467.944444444445\n",
      "826470.0 118 7003.983050847458\n",
      "913665.0 43 21248.023255813954\n",
      "3783551.0 66 57326.530303030304\n",
      "1513441.0 81 18684.456790123455\n",
      "4609449.0 105 43899.514285714286\n",
      "866682.0 26 33333.92307692308\n",
      "1129752.0 40 28243.8\n",
      "1587614.0 69 23008.898550724636\n",
      "16016.0 4 4004.0\n",
      "840774.0 51 16485.764705882353\n",
      "1348958.0 18 74942.11111111111\n",
      "1177591.0 56 21028.410714285714\n",
      "1514371.0 65 23298.015384615384\n",
      "Navigation : 86090.33333333333\n",
      "Reference : 74942.11111111111\n",
      "Music : 57326.530303030304\n",
      "Weather : 52279.892857142855\n",
      "Social Networking : 43899.514285714286\n",
      "Book : 39758.5\n",
      "Food & Drink : 33333.92307692308\n",
      "Finance : 31467.944444444445\n",
      "Photo & Video : 28441.54375\n",
      "Travel : 28243.8\n",
      "Shopping : 26919.690476190477\n",
      "Health & Fitness : 23298.015384615384\n",
      "Sports : 23008.898550724636\n",
      "Games : 22788.6696905016\n",
      "News : 21248.023255813954\n",
      "Productivity : 21028.410714285714\n",
      "Utilities : 18684.456790123455\n",
      "Lifestyle : 16485.764705882353\n",
      "Entertainment : 14029.830708661417\n",
      "Business : 7491.117647058823\n",
      "Education : 7003.983050847458\n",
      "Catalogs : 4004.0\n",
      "Medical : 612.0\n",
      "2368196260.0 248 9549178.467741935\n",
      "5487861902.0 236 23253652.127118643\n",
      "1529235888.0 294 5201482.6122448975\n",
      "3931731720.0 159 24727872.452830188\n",
      "44971150.0 55 817657.2727272727\n",
      "1095230683.0 301 3638640.1428571427\n",
      "8101043474.0 750 10801391.298666667\n",
      "11036906201.0 287 38456119.167247385\n",
      "97202461.0 73 1331540.5616438356\n",
      "140914757.0 165 854028.8303030303\n",
      "188850000.0 103 1833495.145631068\n",
      "455163132.0 328 1387692.475609756\n",
      "503060780.0 124 4056941.7741935486\n",
      "53080061.0 82 647317.8170731707\n",
      "989460000.0 85 11640705.88235294\n",
      "1143548402.0 273 4188821.9853479853\n",
      "497484429.0 346 1437816.2687861272\n",
      "4656268815.0 261 17840110.40229885\n",
      "5791629314.0 345 16787331.344927534\n",
      "6183895690.0 1674 3694083.446833931\n",
      "15973160.0 63 253542.22222222222\n",
      "52995810.0 83 638503.734939759\n",
      "13436869450.0 862 15588015.603248259\n",
      "211738751.0 110 1924897.7363636363\n",
      "696902090.0 407 1712290.1474201474\n",
      "1400338585.0 199 7036877.311557789\n",
      "31471010.0 58 542603.6206896552\n",
      "113211100.0 56 2021626.7857142857\n",
      "360288520.0 71 5074486.197183099\n",
      "2894704086.0 207 13984077.710144928\n",
      "27197050.0 53 513151.88679245283\n",
      "37732344.0 313 120550.61980830671\n",
      "1665884260.0 190 8767811.894736841\n",
      "COMMUNICATION : 38456119.167247385\n",
      "VIDEO_PLAYERS : 24727872.452830188\n",
      "SOCIAL : 23253652.127118643\n",
      "PHOTOGRAPHY : 17840110.40229885\n",
      "PRODUCTIVITY : 16787331.344927534\n",
      "GAME : 15588015.603248259\n",
      "TRAVEL_AND_LOCAL : 13984077.710144928\n",
      "ENTERTAINMENT : 11640705.88235294\n",
      "TOOLS : 10801391.298666667\n",
      "NEWS_AND_MAGAZINES : 9549178.467741935\n",
      "BOOKS_AND_REFERENCE : 8767811.894736841\n",
      "SHOPPING : 7036877.311557789\n",
      "PERSONALIZATION : 5201482.6122448975\n",
      "WEATHER : 5074486.197183099\n",
      "HEALTH_AND_FITNESS : 4188821.9853479853\n",
      "MAPS_AND_NAVIGATION : 4056941.7741935486\n",
      "FAMILY : 3694083.446833931\n",
      "SPORTS : 3638640.1428571427\n",
      "ART_AND_DESIGN : 2021626.7857142857\n",
      "FOOD_AND_DRINK : 1924897.7363636363\n",
      "EDUCATION : 1833495.145631068\n",
      "BUSINESS : 1712290.1474201474\n",
      "LIFESTYLE : 1437816.2687861272\n",
      "FINANCE : 1387692.475609756\n",
      "HOUSE_AND_HOME : 1331540.5616438356\n",
      "DATING : 854028.8303030303\n",
      "COMICS : 817657.2727272727\n",
      "AUTO_AND_VEHICLES : 647317.8170731707\n",
      "LIBRARIES_AND_DEMO : 638503.734939759\n",
      "PARENTING : 542603.6206896552\n",
      "BEAUTY : 513151.88679245283\n",
      "EVENTS : 253542.22222222222\n",
      "MEDICAL : 120550.61980830671\n",
      "3916731720.0 157 24947335.796178345\n",
      "500.0 1 500.0\n",
      "6000000.0 2 3000000.0\n",
      "15973160.0 63 253542.22222222222\n",
      "6100000.0 3 2033333.3333333333\n",
      "15000000.0 2 7500000.0\n",
      "1400136820.0 88 15910645.681818182\n",
      "11500000.0 4 2875000.0\n",
      "629062620.0 181 3475484.08839779\n",
      "1500000.0 2 750000.0\n",
      "53000000.0 9 5888888.888888889\n",
      "1000.0 1 1000.0\n",
      "5000000.0 1 5000000.0\n",
      "100000.0 1 100000.0\n",
      "106000000.0 3 35333333.333333336\n",
      "170020500.0 18 9445583.333333334\n",
      "209172550.0 23 9094458.695652174\n",
      "152618500.0 40 3815462.5\n",
      "10100000.0 2 5050000.0\n",
      "830286191.0 100 8302861.91\n",
      "1100000.0 2 550000.0\n",
      "3465986940.0 275 12603588.872727273\n",
      "3042798570.0 155 19630958.51612903\n",
      "8091043474.0 749 10802461.246995995\n",
      "34000000.0 7 4857142.857142857\n",
      "52995810.0 83 638503.734939759\n",
      "500000.0 1 500000.0\n",
      "12000000.0 3 4000000.0\n",
      "140914757.0 165 854028.8303030303\n",
      "75000000.0 8 9375000.0\n",
      "500000.0 1 500000.0\n",
      "3170000.0 7 452857.14285714284\n",
      "60800010.0 35 1737143.142857143\n",
      "3753691940.0 164 22888365.48780488\n",
      "17111000.0 12 1425916.6666666667\n",
      "55100000.0 3 18366666.666666668\n",
      "2850000.0 7 407142.85714285716\n",
      "1529235888.0 294 5201482.6122448975\n",
      "20591010.0 44 467977.5\n",
      "3000000.0 3 1000000.0\n",
      "100000.0 1 100000.0\n",
      "21100000.0 4 5275000.0\n",
      "7000000.0 3 2333333.3333333335\n",
      "155000000.0 12 12916666.666666666\n",
      "2368196260.0 248 9549178.467741935\n",
      "100.0 1 100.0\n",
      "696902090.0 407 1712290.1474201474\n",
      "44921150.0 54 831873.1481481482\n",
      "10000000.0 1 10000000.0\n",
      "128601370.0 37 3475712.7027027025\n",
      "16000000.0 3 5333333.333333333\n",
      "1000000.0 1 1000000.0\n",
      "6710000.0 6 1118333.3333333333\n",
      "53080061.0 82 647317.8170731707\n",
      "2000000.0 2 1000000.0\n",
      "100000.0 1 100000.0\n",
      "295367120.0 60 4922785.333333333\n",
      "112501100.0 52 2163482.6923076925\n",
      "260787900.0 474 550185.4430379746\n",
      "50000.0 1 50000.0\n",
      "37732344.0 313 120550.61980830671\n",
      "21000000.0 3 7000000.0\n",
      "1000000.0 1 1000000.0\n",
      "1665884260.0 190 8767811.894736841\n",
      "1000000.0 1 1000000.0\n",
      "10000000.0 1 10000000.0\n",
      "360288520.0 71 5074486.197183099\n",
      "100000.0 1 100000.0\n",
      "130260600.0 38 3427910.5263157897\n",
      "96200000.0 15 6413333.333333333\n",
      "142785510.0 30 4759517.0\n",
      "10000000.0 1 10000000.0\n",
      "211738751.0 110 1924897.7363636363\n",
      "329148570.0 83 3965645.421686747\n",
      "7000000.0 3 2333333.3333333335\n",
      "10000000.0 1 10000000.0\n",
      "1411230683.0 307 4596842.615635179\n",
      "32000000.0 6 5333333.333333333\n",
      "6000000.0 2 3000000.0\n",
      "1000000.0 1 1000000.0\n",
      "161813110.0 34 4759209.117647059\n",
      "9000000.0 5 1800000.0\n",
      "26600000.0 6 4433333.333333333\n",
      "35100001.0 11 3190909.1818181816\n",
      "1143548402.0 273 4188821.9853479853\n",
      "23200000.0 7 3314285.714285714\n",
      "51050000.0 3 17016666.666666668\n",
      "1000000.0 1 1000000.0\n",
      "1710000.0 6 285000.0\n",
      "11036906201.0 287 38456119.167247385\n",
      "13569100.0 33 411184.8484848485\n",
      "3014302513.0 538 5602792.775092937\n",
      "1400338585.0 199 7036877.311557789\n",
      "455163132.0 328 1387692.475609756\n",
      "146100000.0 21 6957142.857142857\n",
      "1000000.0 1 1000000.0\n",
      "4656268815.0 261 17840110.40229885\n",
      "10000000.0 1 10000000.0\n",
      "97202461.0 73 1331540.5616438356\n",
      "503060780.0 124 4056941.7741935486\n",
      "907192105.0 80 11339901.3125\n",
      "132250000.0 15 8816666.666666666\n",
      "2894604086.0 206 14051476.145631067\n",
      "10100000.0 2 5050000.0\n",
      "500000.0 1 500000.0\n",
      "100000.0 1 100000.0\n",
      "500000.0 1 500000.0\n",
      "1000000.0 1 1000000.0\n",
      "139210000.0 15 9280666.666666666\n",
      "27197050.0 53 513151.88679245283\n",
      "487484429.0 345 1412998.3449275363\n",
      "5487861902.0 236 23253652.127118643\n",
      "5791629314.0 345 16787331.344927534\n",
      "10000000.0 1 10000000.0\n",
      "Communication : 38456119.167247385\n",
      "Adventure;Action & Adventure : 35333333.333333336\n",
      "Video Players & Editors : 24947335.796178345\n",
      "Social : 23253652.127118643\n",
      "Arcade : 22888365.48780488\n",
      "Casual : 19630958.51612903\n",
      "Puzzle;Action & Adventure : 18366666.666666668\n",
      "Photography : 17840110.40229885\n",
      "Educational;Action & Adventure : 17016666.666666668\n",
      "Productivity : 16787331.344927534\n",
      "Racing : 15910645.681818182\n",
      "Travel & Local : 14051476.145631067\n",
      "Casual;Action & Adventure : 12916666.666666666\n",
      "Action : 12603588.872727273\n",
      "Strategy : 11339901.3125\n",
      "Tools : 10802461.246995995\n",
      "Tools;Education : 10000000.0\n",
      "Role Playing;Brain Games : 10000000.0\n",
      "Lifestyle;Pretend Play : 10000000.0\n",
      "Casual;Music & Video : 10000000.0\n",
      "Card;Action & Adventure : 10000000.0\n",
      "Adventure;Education : 10000000.0\n",
      "News & Magazines : 9549178.467741935\n",
      "Music : 9445583.333333334\n",
      "Educational;Pretend Play : 9375000.0\n",
      "Puzzle;Brain Games : 9280666.666666666\n",
      "Word : 9094458.695652174\n",
      "Racing;Action & Adventure : 8816666.666666666\n",
      "Books & Reference : 8767811.894736841\n",
      "Puzzle : 8302861.91\n",
      "Video Players & Editors;Music & Video : 7500000.0\n",
      "Shopping : 7036877.311557789\n",
      "Role Playing;Action & Adventure : 7000000.0\n",
      "Casual;Pretend Play : 6957142.857142857\n",
      "Entertainment;Music & Video : 6413333.333333333\n",
      "Action;Action & Adventure : 5888888.888888889\n",
      "Entertainment : 5602792.775092937\n",
      "Education;Brain Games : 5333333.333333333\n",
      "Casual;Creativity : 5333333.333333333\n",
      "Role Playing;Pretend Play : 5275000.0\n",
      "Personalization : 5201482.6122448975\n",
      "Weather : 5074486.197183099\n",
      "Sports;Action & Adventure : 5050000.0\n",
      "Music;Music & Video : 5050000.0\n",
      "Video Players & Editors;Creativity : 5000000.0\n",
      "Adventure : 4922785.333333333\n",
      "Simulation;Action & Adventure : 4857142.857142857\n",
      "Education;Education : 4759517.0\n",
      "Board : 4759209.117647059\n",
      "Sports : 4596842.615635179\n",
      "Educational;Brain Games : 4433333.333333333\n",
      "Health & Fitness : 4188821.9853479853\n",
      "Maps & Navigation : 4056941.7741935486\n",
      "Entertainment;Creativity : 4000000.0\n",
      "Role Playing : 3965645.421686747\n",
      "Card : 3815462.5\n",
      "Trivia : 3475712.7027027025\n",
      "Simulation : 3475484.08839779\n",
      "Casino : 3427910.5263157897\n",
      "Entertainment;Brain Games : 3314285.714285714\n",
      "Arcade;Action & Adventure : 3190909.1818181816\n",
      "Entertainment;Pretend Play : 3000000.0\n",
      "Board;Action & Adventure : 3000000.0\n",
      "Education;Creativity : 2875000.0\n",
      "Entertainment;Action & Adventure : 2333333.3333333335\n",
      "Educational;Creativity : 2333333.3333333335\n",
      "Art & Design : 2163482.6923076925\n",
      "Education;Music & Video : 2033333.3333333333\n",
      "Food & Drink : 1924897.7363636363\n",
      "Education;Pretend Play : 1800000.0\n",
      "Educational;Education : 1737143.142857143\n",
      "Business : 1712290.1474201474\n",
      "Casual;Brain Games : 1425916.6666666667\n",
      "Lifestyle : 1412998.3449275363\n",
      "Finance : 1387692.475609756\n",
      "House & Home : 1331540.5616438356\n",
      "Parenting;Music & Video : 1118333.3333333333\n",
      "Strategy;Creativity : 1000000.0\n",
      "Strategy;Action & Adventure : 1000000.0\n",
      "Racing;Pretend Play : 1000000.0\n",
      "Parenting;Brain Games : 1000000.0\n",
      "Health & Fitness;Action & Adventure : 1000000.0\n",
      "Entertainment;Education : 1000000.0\n",
      "Education;Action & Adventure : 1000000.0\n",
      "Casual;Education : 1000000.0\n",
      "Arcade;Pretend Play : 1000000.0\n",
      "Dating : 854028.8303030303\n",
      "Comics : 831873.1481481482\n",
      "Puzzle;Creativity : 750000.0\n",
      "Auto & Vehicles : 647317.8170731707\n",
      "Libraries & Demo : 638503.734939759\n",
      "Education : 550185.4430379746\n",
      "Simulation;Pretend Play : 550000.0\n",
      "Beauty : 513151.88679245283\n",
      "Strategy;Education : 500000.0\n",
      "Music & Audio;Music & Video : 500000.0\n",
      "Communication;Creativity : 500000.0\n",
      "Art & Design;Pretend Play : 500000.0\n",
      "Parenting : 467977.5\n",
      "Parenting;Education : 452857.14285714284\n",
      "Educational : 411184.8484848485\n",
      "Board;Brain Games : 407142.85714285716\n",
      "Art & Design;Creativity : 285000.0\n",
      "Events : 253542.22222222222\n",
      "Medical : 120550.61980830671\n",
      "Travel & Local;Action & Adventure : 100000.0\n",
      "Puzzle;Education : 100000.0\n",
      "Lifestyle;Education : 100000.0\n",
      "Health & Fitness;Education : 100000.0\n",
      "Art & Design;Action & Adventure : 100000.0\n",
      "Comics;Creativity : 50000.0\n",
      "Books & Reference;Education : 1000.0\n",
      "Simulation;Education : 500.0\n",
      "Trivia;Education : 100.0\n"
     ]
    }
   ],
   "source": [
    "display_avg_install(ios_free, prime_genre_data, 11, 5)\n",
    "display_avg_install(android_free, category_data, 1, 5)\n",
    "display_avg_install(android_free, genres_data, 9, 5)"
   ]
  },
  {
   "cell_type": "code",
   "execution_count": null,
   "metadata": {
    "collapsed": true
   },
   "outputs": [],
   "source": []
  }
 ],
 "metadata": {
  "kernelspec": {
   "display_name": "Python 3",
   "language": "python",
   "name": "python3"
  },
  "language_info": {
   "codemirror_mode": {
    "name": "ipython",
    "version": 3
   },
   "file_extension": ".py",
   "mimetype": "text/x-python",
   "name": "python",
   "nbconvert_exporter": "python",
   "pygments_lexer": "ipython3",
   "version": "3.4.3"
  }
 },
 "nbformat": 4,
 "nbformat_minor": 2
}
