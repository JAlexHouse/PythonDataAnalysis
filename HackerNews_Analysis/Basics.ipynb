{
 "cells": [
  {
   "cell_type": "markdown",
   "metadata": {
    "collapsed": true
   },
   "source": [
    "# Hacker News Data Analysis\n",
    "## Site Info\n",
    "---\n",
    "Hacker News is a site that began on the startup website Y Combinator. Here, posts created by users can be voted and commented on, much like the site Reddit. This site appeals to those interested in technology and other startups, where posts related to this content can reach high publicity if they reach the top Hacker News' listings.\n",
    "\n",
    "## Data Info\n",
    "---\n",
    "The data is comprised of 20,000 rows of data, which was reduced from 300,000 rows after removing posts that have not received any comments, and then random sampling after that process.\n",
    "\n",
    "The column descriptions are as follows:\n",
    "\n",
    "* id: The unique identifier from Hacker News for the post\n",
    "* title: The title of the post\n",
    "* url: The URL that the posts links to, if it the post has a URL\n",
    "* num_points: The number of points the post acquired, calculated as the total number of upvotes minus the total number of downvotes\n",
    "* num_comments: The number of comments that were made on the post\n",
    "* author: The username of the person who submitted the post\n",
    "* created_at: The date and time at which the post was submitted"
   ]
  },
  {
   "cell_type": "code",
   "execution_count": 6,
   "metadata": {
    "collapsed": false
   },
   "outputs": [],
   "source": [
    "from csv import reader\n",
    "hn = []\n",
    "hn_header = []\n",
    "with open(\"hacker_news.csv\") as f:\n",
    "    read_file = reader(f)\n",
    "    hn = list(read_file)\n",
    "    hn_header = hn[0]\n",
    "    hn.pop(0)"
   ]
  },
  {
   "cell_type": "code",
   "execution_count": 17,
   "metadata": {
    "collapsed": false
   },
   "outputs": [
    {
     "name": "stdout",
     "output_type": "stream",
     "text": [
      "(0, 'id')\n",
      "(1, 'title')\n",
      "(2, 'url')\n",
      "(3, 'num_points')\n",
      "(4, 'num_comments')\n",
      "(5, 'author')\n",
      "(6, 'created_at')\n"
     ]
    }
   ],
   "source": [
    "for v in enumerate(hn_header):\n",
    "    print(v)\n",
    "# print('\\n')\n",
    "# for i in range(5):\n",
    "#     print(hn[i], '\\n')"
   ]
  },
  {
   "cell_type": "markdown",
   "metadata": {},
   "source": [
    "## Filtering Data\n",
    "---\n",
    "For this analysis, we will look only at posts that are directed towards the 'Ask HN' and 'Show HN' subject. From here, we will filter the data and find which of the two post subjects are more popular on the Hacker News site, in terms of number of posts and average number of comments per post.\n",
    "\n",
    "First, we will have to separate the dataset into three separate lists: `ask_posts`, `show_posts`, and `other_posts`."
   ]
  },
  {
   "cell_type": "code",
   "execution_count": 21,
   "metadata": {
    "collapsed": false
   },
   "outputs": [
    {
     "name": "stdout",
     "output_type": "stream",
     "text": [
      "Number of 'Ask HN' posts: 1744\n",
      "Number of 'Show HN' posts: 1162\n",
      "Number of other posts: 17194\n"
     ]
    }
   ],
   "source": [
    "ask_posts = []\n",
    "show_posts = []\n",
    "other_posts = []\n",
    "for row in hn:\n",
    "    title = row[1].lower()\n",
    "    if title.startswith('ask hn'):\n",
    "        ask_posts.append(row)\n",
    "    elif title.startswith('show hn'):\n",
    "        show_posts.append(row)\n",
    "    else:\n",
    "        other_posts.append(row)\n",
    "print('Number of \\'Ask HN\\' posts:', len(ask_posts))\n",
    "print('Number of \\'Show HN\\' posts:', len(show_posts))\n",
    "print('Number of other posts:', len(other_posts))"
   ]
  },
  {
   "cell_type": "markdown",
   "metadata": {},
   "source": [
    "Next we will assign the total number of comments of each list to `total_ask_comments` and `total_show_comments` respectively."
   ]
  },
  {
   "cell_type": "code",
   "execution_count": 28,
   "metadata": {
    "collapsed": false
   },
   "outputs": [
    {
     "name": "stdout",
     "output_type": "stream",
     "text": [
      "Avg. number of comments on 'Ask HN' posts: 14.04\n",
      "Avg. number of comments on 'Show HN' posts: 10.32\n"
     ]
    }
   ],
   "source": [
    "total_ask_comments = 0\n",
    "for row in ask_posts:\n",
    "    total_ask_comments += int(row[4])\n",
    "avg_ask_comments = total_ask_comments / len(ask_posts)\n",
    "\n",
    "total_show_comments = 0\n",
    "for row in show_posts:\n",
    "    total_show_comments += int(row[4])\n",
    "avg_show_comments = total_show_comments / len(show_posts)\n",
    "\n",
    "print(\"Avg. number of comments on 'Ask HN' posts:\", round(avg_ask_comments, 2))\n",
    "print(\"Avg. number of comments on 'Show HN' posts:\", round(avg_show_comments, 2))"
   ]
  },
  {
   "cell_type": "markdown",
   "metadata": {},
   "source": [
    "From this data, we can see that the amount of Ask HN posts outnumber the Show HN posts, in addition to the average number of comments on Ask HN posts is also greater than the average for Show HN posts. This shows that Ask HN posts tend to be more popular with Hacker News users."
   ]
  }
 ],
 "metadata": {
  "kernelspec": {
   "display_name": "Python 3",
   "language": "python",
   "name": "python3"
  },
  "language_info": {
   "codemirror_mode": {
    "name": "ipython",
    "version": 3
   },
   "file_extension": ".py",
   "mimetype": "text/x-python",
   "name": "python",
   "nbconvert_exporter": "python",
   "pygments_lexer": "ipython3",
   "version": "3.4.3"
  }
 },
 "nbformat": 4,
 "nbformat_minor": 2
}
