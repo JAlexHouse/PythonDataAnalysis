{
 "cells": [
  {
   "cell_type": "markdown",
   "metadata": {
    "collapsed": true
   },
   "source": [
    "# Hacker News Data Analysis\n",
    "## Site Info\n",
    "---\n",
    "Hacker News is a site that began on the startup website Y Combinator. Here, posts created by users can be voted and commented on, much like the site Reddit. This site appeals to those interested in technology and other startups, where posts related to this content can reach high publicity if they reach the top Hacker News' listings.\n",
    "\n",
    "## Data Info\n",
    "---\n",
    "The data is comprised of 20,000 rows of data, which was reduced from 300,000 rows after removing posts that have not received any comments, and then random sampling after that process.\n",
    "\n",
    "The column descriptions are as follows:\n",
    "\n",
    "* id: The unique identifier from Hacker News for the post\n",
    "* title: The title of the post\n",
    "* url: The URL that the posts links to, if it the post has a URL\n",
    "* num_points: The number of points the post acquired, calculated as the total number of upvotes minus the total number of downvotes\n",
    "* num_comments: The number of comments that were made on the post\n",
    "* author: The username of the person who submitted the post\n",
    "* created_at: The date and time at which the post was submitted"
   ]
  },
  {
   "cell_type": "code",
   "execution_count": 1,
   "metadata": {},
   "outputs": [],
   "source": [
    "from csv import reader\n",
    "hn = []\n",
    "hn_header = []\n",
    "with open(\"hacker_news.csv\") as f:\n",
    "    read_file = reader(f)\n",
    "    hn = list(read_file)\n",
    "    hn_header = hn[0]\n",
    "    hn.pop(0)"
   ]
  },
  {
   "cell_type": "code",
   "execution_count": 2,
   "metadata": {},
   "outputs": [
    {
     "name": "stdout",
     "output_type": "stream",
     "text": [
      "(0, 'id')\n",
      "(1, 'title')\n",
      "(2, 'url')\n",
      "(3, 'num_points')\n",
      "(4, 'num_comments')\n",
      "(5, 'author')\n",
      "(6, 'created_at')\n"
     ]
    }
   ],
   "source": [
    "for v in enumerate(hn_header):\n",
    "    print(v)\n",
    "# print('\\n')\n",
    "# for i in range(5):\n",
    "#     print(hn[i], '\\n')"
   ]
  },
  {
   "cell_type": "markdown",
   "metadata": {},
   "source": [
    "## Ask HN vs. Show HN\n",
    "---\n",
    "For this analysis, we will look only at posts that are directed towards the 'Ask HN' and 'Show HN' subject. From here, we will filter the data and find which of the two post subjects are more popular on the Hacker News site, in terms of number of posts and average number of comments per post.\n",
    "\n",
    "First, we will have to separate the dataset into three separate lists: `ask_posts`, `show_posts`, and `other_posts`."
   ]
  },
  {
   "cell_type": "code",
   "execution_count": 3,
   "metadata": {},
   "outputs": [
    {
     "name": "stdout",
     "output_type": "stream",
     "text": [
      "Number of 'Ask HN' posts: 1744\n",
      "Number of 'Show HN' posts: 1162\n",
      "Number of other posts: 17194\n"
     ]
    }
   ],
   "source": [
    "ask_posts = []\n",
    "show_posts = []\n",
    "other_posts = []\n",
    "for row in hn:\n",
    "    title = row[1].lower()\n",
    "    if title.startswith('ask hn'):\n",
    "        ask_posts.append(row)\n",
    "    elif title.startswith('show hn'):\n",
    "        show_posts.append(row)\n",
    "    else:\n",
    "        other_posts.append(row)\n",
    "print('Number of \\'Ask HN\\' posts:', len(ask_posts))\n",
    "print('Number of \\'Show HN\\' posts:', len(show_posts))\n",
    "print('Number of other posts:', len(other_posts))"
   ]
  },
  {
   "cell_type": "markdown",
   "metadata": {},
   "source": [
    "Next we will assign the total number of comments of each list to `total_ask_comments` and `total_show_comments` respectively."
   ]
  },
  {
   "cell_type": "code",
   "execution_count": 4,
   "metadata": {},
   "outputs": [
    {
     "name": "stdout",
     "output_type": "stream",
     "text": [
      "Avg. number of comments on 'Ask HN' posts: 14.04\n",
      "Avg. number of comments on 'Show HN' posts: 10.32\n"
     ]
    }
   ],
   "source": [
    "total_ask_comments = 0\n",
    "for row in ask_posts:\n",
    "    total_ask_comments += int(row[4])\n",
    "avg_ask_comments = total_ask_comments / len(ask_posts)\n",
    "\n",
    "total_show_comments = 0\n",
    "for row in show_posts:\n",
    "    total_show_comments += int(row[4])\n",
    "avg_show_comments = total_show_comments / len(show_posts)\n",
    "\n",
    "print(\"Avg. number of comments on 'Ask HN' posts:\", round(avg_ask_comments, 2))\n",
    "print(\"Avg. number of comments on 'Show HN' posts:\", round(avg_show_comments, 2))"
   ]
  },
  {
   "cell_type": "markdown",
   "metadata": {},
   "source": [
    "From this data, we can see that the amount of Ask HN posts outnumber the Show HN posts, in addition to the average number of comments on Ask HN posts is also greater than the average for Show HN posts. This shows that Ask HN posts tend to be more popular with Hacker News users."
   ]
  },
  {
   "cell_type": "markdown",
   "metadata": {
    "collapsed": true
   },
   "source": [
    "## When Posts are Created\n",
    "---\n",
    "In this section, we will compare posts based on the *time* of day they were posted. This will be calculated with the `datetime` module in order to access the relevant information in a comparable datatype.\n",
    "\n",
    "First, we will need to import the `datetime` module, and then organize the results into a list of lists."
   ]
  },
  {
   "cell_type": "code",
   "execution_count": 12,
   "metadata": {},
   "outputs": [
    {
     "name": "stdout",
     "output_type": "stream",
     "text": [
      "Avg. number of comments by the hour: \n",
      "00:00, 8.13 comments on average per post.\n",
      "01:00, 11.38 comments on average per post.\n",
      "02:00, 23.81 comments on average per post.\n",
      "03:00, 7.80 comments on average per post.\n",
      "04:00, 7.17 comments on average per post.\n",
      "05:00, 10.09 comments on average per post.\n",
      "06:00, 9.02 comments on average per post.\n",
      "07:00, 7.85 comments on average per post.\n",
      "08:00, 10.25 comments on average per post.\n",
      "09:00, 5.58 comments on average per post.\n",
      "10:00, 13.44 comments on average per post.\n",
      "11:00, 11.05 comments on average per post.\n",
      "12:00, 9.41 comments on average per post.\n",
      "13:00, 14.74 comments on average per post.\n",
      "14:00, 13.23 comments on average per post.\n",
      "15:00, 38.59 comments on average per post.\n",
      "16:00, 16.80 comments on average per post.\n",
      "17:00, 11.46 comments on average per post.\n",
      "18:00, 13.20 comments on average per post.\n",
      "19:00, 10.80 comments on average per post.\n",
      "20:00, 21.52 comments on average per post.\n",
      "21:00, 16.01 comments on average per post.\n",
      "22:00, 6.75 comments on average per post.\n",
      "23:00, 7.99 comments on average per post.\n",
      "\n",
      "\n",
      "Highest avg. number of comments by the hour: \n",
      "15:00, 38.59 comments on average per post.\n",
      "02:00, 23.81 comments on average per post.\n",
      "20:00, 21.52 comments on average per post.\n",
      "16:00, 16.80 comments on average per post.\n",
      "21:00, 16.01 comments on average per post.\n",
      "13:00, 14.74 comments on average per post.\n",
      "10:00, 13.44 comments on average per post.\n",
      "14:00, 13.23 comments on average per post.\n",
      "18:00, 13.20 comments on average per post.\n",
      "17:00, 11.46 comments on average per post.\n",
      "01:00, 11.38 comments on average per post.\n",
      "11:00, 11.05 comments on average per post.\n",
      "19:00, 10.80 comments on average per post.\n",
      "08:00, 10.25 comments on average per post.\n",
      "05:00, 10.09 comments on average per post.\n",
      "12:00, 9.41 comments on average per post.\n",
      "06:00, 9.02 comments on average per post.\n",
      "00:00, 8.13 comments on average per post.\n",
      "23:00, 7.99 comments on average per post.\n",
      "07:00, 7.85 comments on average per post.\n",
      "03:00, 7.80 comments on average per post.\n",
      "04:00, 7.17 comments on average per post.\n",
      "22:00, 6.75 comments on average per post.\n",
      "09:00, 5.58 comments on average per post.\n"
     ]
    }
   ],
   "source": [
    "import datetime as dt\n",
    "result_list= []\n",
    "for row in ask_posts:\n",
    "    date_created = row[6]\n",
    "    comments = int(row[4])\n",
    "    result_list.append([date_created, comments])\n",
    "    \n",
    "counts_by_hour = {}\n",
    "comments_by_hour = {}\n",
    "date_format= '%m/%d/%Y %H:%M'\n",
    "for row in result_list:\n",
    "    hour = dt.datetime.strptime(row[0], date_format).strftime('%H')\n",
    "    comments = row[1]\n",
    "    if hour not in counts_by_hour:\n",
    "        counts_by_hour[hour] = 1\n",
    "        comments_by_hour[hour] = comments\n",
    "    else:\n",
    "        counts_by_hour[hour] +=1\n",
    "        comments_by_hour[hour] += comments\n",
    "\n",
    "avg_by_hour = []\n",
    "for hour in comments_by_hour:\n",
    "    avg_by_hour.append([hour, comments_by_hour[hour]/counts_by_hour[hour]])\n",
    "avg_by_hour.sort()\n",
    "print(\"Avg. number of comments by the hour: \")\n",
    "result_template = \"{}:00, {:.2f} comments on average per post.\"\n",
    "for row in avg_by_hour:\n",
    "    print(result_template.format(row[0], row[1]))\n",
    "print('\\n')\n",
    "swap_avg_by_hour = []\n",
    "for row in avg_by_hour:\n",
    "    swap_avg_by_hour.append([row[1], row[0]])\n",
    "swap_avg_by_hour.sort(reverse=True)\n",
    "print(\"Highest avg. number of comments by the hour: \")\n",
    "for row in swap_avg_by_hour:\n",
    "    print(result_template.format(row[1], row[0]))"
   ]
  },
  {
   "cell_type": "markdown",
   "metadata": {
    "collapsed": true
   },
   "source": [
    "## Conclusion\n",
    "---\n",
    "From the beginning of this analysis, it was found that Ask HN posts were more popular for discussion on the Hacker News site. With the new information that posts around 3:00PM recieve the highest amount of comments per post on average, it should be noted by users that the prime time to create a post is around this time, with the subject beginning with 'Ask HN'.\n",
    "\n",
    "The techniques used for analyzing the response to certain posts can be used for knowing when to post onto a social media platform. This is applicable to marketing strategies, self-promotion, or swift response time in the fact these aspects of social media usage desire the largest number of spectators and/or participators.\n",
    "\n",
    "For the future, these aspects of the dataset can also be compared: \n",
    "\n",
    "* Determine if show or ask posts receive more points on average.\n",
    "* Determine if posts created at a certain time are more likely to receive more points.\n",
    "* Compare your results to the average number of comments and points other posts receive."
   ]
  },
  {
   "cell_type": "code",
   "execution_count": null,
   "metadata": {},
   "outputs": [],
   "source": []
  }
 ],
 "metadata": {
  "kernelspec": {
   "display_name": "Python 3",
   "language": "python",
   "name": "python3"
  },
  "language_info": {
   "codemirror_mode": {
    "name": "ipython",
    "version": 3
   },
   "file_extension": ".py",
   "mimetype": "text/x-python",
   "name": "python",
   "nbconvert_exporter": "python",
   "pygments_lexer": "ipython3",
   "version": "3.7.3"
  }
 },
 "nbformat": 4,
 "nbformat_minor": 2
}
